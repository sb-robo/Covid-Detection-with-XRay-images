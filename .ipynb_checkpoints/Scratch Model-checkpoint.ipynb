{
 "cells": [
  {
   "cell_type": "markdown",
   "metadata": {},
   "source": [
    "### Data Generator"
   ]
  },
  {
   "cell_type": "code",
   "execution_count": 1,
   "metadata": {},
   "outputs": [],
   "source": [
    "import tensorflow as tf\n",
    "from tensorflow.keras.preprocessing import image"
   ]
  },
  {
   "cell_type": "code",
   "execution_count": 2,
   "metadata": {},
   "outputs": [],
   "source": [
    "train_idg = image.ImageDataGenerator(\n",
    "    rescale=1./255,\n",
    "    width_shift_range=0.2,\n",
    "    height_shift_range=0.1,\n",
    "    shear_range=0.2,\n",
    "    zoom_range=0.1,\n",
    "    horizontal_flip=True\n",
    ")\n",
    "\n",
    "val_idg = image.ImageDataGenerator(\n",
    "    rescale=1./255\n",
    ")"
   ]
  },
  {
   "cell_type": "code",
   "execution_count": 3,
   "metadata": {},
   "outputs": [
    {
     "name": "stdout",
     "output_type": "stream",
     "text": [
      "Found 273 images belonging to 2 classes.\n"
     ]
    }
   ],
   "source": [
    "train_generator = train_idg.flow_from_directory(\n",
    "    './Dataset/train',\n",
    "    target_size=(224,224),\n",
    "    batch_size=32,\n",
    "    class_mode='binary'\n",
    ")"
   ]
  },
  {
   "cell_type": "code",
   "execution_count": 4,
   "metadata": {},
   "outputs": [
    {
     "name": "stdout",
     "output_type": "stream",
     "text": [
      "Found 68 images belonging to 2 classes.\n"
     ]
    }
   ],
   "source": [
    "val_generator = val_idg.flow_from_directory(\n",
    "    './Dataset/test',\n",
    "    target_size=(224,224),\n",
    "    batch_size=24,\n",
    "    class_mode='binary'\n",
    ")"
   ]
  },
  {
   "cell_type": "markdown",
   "metadata": {},
   "source": [
    "### Build Model"
   ]
  },
  {
   "cell_type": "code",
   "execution_count": 5,
   "metadata": {},
   "outputs": [],
   "source": [
    "from keras.layers import *\n",
    "from keras.models import Sequential"
   ]
  },
  {
   "cell_type": "code",
   "execution_count": 6,
   "metadata": {},
   "outputs": [],
   "source": [
    "model = Sequential()"
   ]
  },
  {
   "cell_type": "code",
   "execution_count": 7,
   "metadata": {},
   "outputs": [],
   "source": [
    "model.add(Conv2D(32,kernel_size=(3,3),activation='relu',input_shape=(224,224,3)))\n",
    "model.add(Conv2D(64,kernel_size=(3,3),activation='relu'))\n",
    "model.add(MaxPooling2D(pool_size=(2,2)))\n",
    "model.add(Dropout(0.5))\n",
    "\n",
    "model.add(Conv2D(64,kernel_size=(3,3),activation='relu'))\n",
    "model.add(MaxPooling2D(pool_size=(2,2)))\n",
    "model.add(Dropout(0.25))\n",
    "\n",
    "model.add(Conv2D(128,kernel_size=(3,3),activation='relu'))\n",
    "model.add(MaxPooling2D(pool_size=(2,2)))\n",
    "model.add(Dropout(0.3))\n",
    "\n",
    "model.add(Flatten())\n",
    "model.add(Dense(64,activation='relu'))\n",
    "model.add(Dropout(0.25))\n",
    "model.add(Dense(1,activation='sigmoid'))"
   ]
  },
  {
   "cell_type": "code",
   "execution_count": 8,
   "metadata": {},
   "outputs": [
    {
     "name": "stdout",
     "output_type": "stream",
     "text": [
      "Model: \"sequential\"\n",
      "_________________________________________________________________\n",
      "Layer (type)                 Output Shape              Param #   \n",
      "=================================================================\n",
      "conv2d (Conv2D)              (None, 222, 222, 32)      896       \n",
      "_________________________________________________________________\n",
      "conv2d_1 (Conv2D)            (None, 220, 220, 64)      18496     \n",
      "_________________________________________________________________\n",
      "max_pooling2d (MaxPooling2D) (None, 110, 110, 64)      0         \n",
      "_________________________________________________________________\n",
      "dropout (Dropout)            (None, 110, 110, 64)      0         \n",
      "_________________________________________________________________\n",
      "conv2d_2 (Conv2D)            (None, 108, 108, 64)      36928     \n",
      "_________________________________________________________________\n",
      "max_pooling2d_1 (MaxPooling2 (None, 54, 54, 64)        0         \n",
      "_________________________________________________________________\n",
      "dropout_1 (Dropout)          (None, 54, 54, 64)        0         \n",
      "_________________________________________________________________\n",
      "conv2d_3 (Conv2D)            (None, 52, 52, 128)       73856     \n",
      "_________________________________________________________________\n",
      "max_pooling2d_2 (MaxPooling2 (None, 26, 26, 128)       0         \n",
      "_________________________________________________________________\n",
      "dropout_2 (Dropout)          (None, 26, 26, 128)       0         \n",
      "_________________________________________________________________\n",
      "flatten (Flatten)            (None, 86528)             0         \n",
      "_________________________________________________________________\n",
      "dense (Dense)                (None, 64)                5537856   \n",
      "_________________________________________________________________\n",
      "dropout_3 (Dropout)          (None, 64)                0         \n",
      "_________________________________________________________________\n",
      "dense_1 (Dense)              (None, 1)                 65        \n",
      "=================================================================\n",
      "Total params: 5,668,097\n",
      "Trainable params: 5,668,097\n",
      "Non-trainable params: 0\n",
      "_________________________________________________________________\n"
     ]
    }
   ],
   "source": [
    "model.summary()"
   ]
  },
  {
   "cell_type": "code",
   "execution_count": 9,
   "metadata": {},
   "outputs": [],
   "source": [
    "model.compile(loss='binary_crossentropy',optimizer='adam',metrics=['accuracy'])"
   ]
  },
  {
   "cell_type": "markdown",
   "metadata": {},
   "source": [
    "### Train Model"
   ]
  },
  {
   "cell_type": "code",
   "execution_count": 10,
   "metadata": {},
   "outputs": [],
   "source": [
    "from keras.callbacks import ModelCheckpoint\n",
    "import os"
   ]
  },
  {
   "cell_type": "code",
   "execution_count": 11,
   "metadata": {},
   "outputs": [
    {
     "name": "stdout",
     "output_type": "stream",
     "text": [
      "Already Created\n"
     ]
    }
   ],
   "source": [
    "if not os.path.exists('./Weights/Scratch'):\n",
    "    os.mkdir('./Weights/Scratch')\n",
    "    print('Directory created')\n",
    "else:\n",
    "    print('Already Created')"
   ]
  },
  {
   "cell_type": "code",
   "execution_count": 12,
   "metadata": {},
   "outputs": [],
   "source": [
    "checkpoint = ModelCheckpoint('./Weights/Scratch/model.{epoch}_{val_accuracy:.2f}.h5', \n",
    "                             monitor='val_accuracy', \n",
    "                             verbose=1, \n",
    "                             mode='auto',\n",
    "                             save_weights_only=True\n",
    "                            )"
   ]
  },
  {
   "cell_type": "code",
   "execution_count": 13,
   "metadata": {
    "scrolled": true
   },
   "outputs": [
    {
     "name": "stdout",
     "output_type": "stream",
     "text": [
      "Epoch 1/10\n",
      "9/9 [==============================] - ETA: 0s - loss: 1.2430 - accuracy: 0.5238\n",
      "Epoch 00001: saving model to ./Weights/Scratch/model.1_0.54.h5\n",
      "9/9 [==============================] - 84s 9s/step - loss: 1.2430 - accuracy: 0.5238 - val_loss: 0.6853 - val_accuracy: 0.5417\n",
      "Epoch 2/10\n",
      "9/9 [==============================] - ETA: 0s - loss: 0.6845 - accuracy: 0.6007\n",
      "Epoch 00002: saving model to ./Weights/Scratch/model.2_0.58.h5\n",
      "9/9 [==============================] - 90s 10s/step - loss: 0.6845 - accuracy: 0.6007 - val_loss: 0.6828 - val_accuracy: 0.5833\n",
      "Epoch 3/10\n",
      "9/9 [==============================] - ETA: 0s - loss: 0.6638 - accuracy: 0.6630\n",
      "Epoch 00003: saving model to ./Weights/Scratch/model.3_0.60.h5\n",
      "9/9 [==============================] - 83s 9s/step - loss: 0.6638 - accuracy: 0.6630 - val_loss: 0.6432 - val_accuracy: 0.6042\n",
      "Epoch 4/10\n",
      "9/9 [==============================] - ETA: 0s - loss: 0.5532 - accuracy: 0.6813\n",
      "Epoch 00004: saving model to ./Weights/Scratch/model.4_0.85.h5\n",
      "9/9 [==============================] - 82s 9s/step - loss: 0.5532 - accuracy: 0.6813 - val_loss: 0.4730 - val_accuracy: 0.8542\n",
      "Epoch 5/10\n",
      "9/9 [==============================] - ETA: 0s - loss: 0.3026 - accuracy: 0.8864\n",
      "Epoch 00005: saving model to ./Weights/Scratch/model.5_0.92.h5\n",
      "9/9 [==============================] - 84s 9s/step - loss: 0.3026 - accuracy: 0.8864 - val_loss: 0.1894 - val_accuracy: 0.9167\n",
      "Epoch 6/10\n",
      "9/9 [==============================] - ETA: 0s - loss: 0.1874 - accuracy: 0.9304\n",
      "Epoch 00006: saving model to ./Weights/Scratch/model.6_0.98.h5\n",
      "9/9 [==============================] - 84s 9s/step - loss: 0.1874 - accuracy: 0.9304 - val_loss: 0.1144 - val_accuracy: 0.9792\n",
      "Epoch 7/10\n",
      "9/9 [==============================] - ETA: 0s - loss: 0.2130 - accuracy: 0.9194\n",
      "Epoch 00007: saving model to ./Weights/Scratch/model.7_0.96.h5\n",
      "9/9 [==============================] - 85s 9s/step - loss: 0.2130 - accuracy: 0.9194 - val_loss: 0.1672 - val_accuracy: 0.9583\n",
      "Epoch 8/10\n",
      "9/9 [==============================] - ETA: 0s - loss: 0.1831 - accuracy: 0.9267\n",
      "Epoch 00008: saving model to ./Weights/Scratch/model.8_0.98.h5\n",
      "9/9 [==============================] - 83s 9s/step - loss: 0.1831 - accuracy: 0.9267 - val_loss: 0.0980 - val_accuracy: 0.9792\n",
      "Epoch 9/10\n",
      "9/9 [==============================] - ETA: 0s - loss: 0.2483 - accuracy: 0.9158\n",
      "Epoch 00009: saving model to ./Weights/Scratch/model.9_0.96.h5\n",
      "9/9 [==============================] - 87s 10s/step - loss: 0.2483 - accuracy: 0.9158 - val_loss: 0.1982 - val_accuracy: 0.9583\n",
      "Epoch 10/10\n",
      "9/9 [==============================] - ETA: 0s - loss: 0.1292 - accuracy: 0.9487\n",
      "Epoch 00010: saving model to ./Weights/Scratch/model.10_0.94.h5\n",
      "9/9 [==============================] - 84s 9s/step - loss: 0.1292 - accuracy: 0.9487 - val_loss: 0.2201 - val_accuracy: 0.9375\n"
     ]
    }
   ],
   "source": [
    "hist = model.fit(\n",
    "    train_generator,\n",
    "    steps_per_epoch=9,\n",
    "    epochs=10,\n",
    "    validation_data=val_generator,\n",
    "    validation_steps=2,\n",
    "    callbacks=checkpoint\n",
    ")"
   ]
  },
  {
   "cell_type": "code",
   "execution_count": 14,
   "metadata": {},
   "outputs": [],
   "source": [
    "x,y=val_generator.next()"
   ]
  },
  {
   "cell_type": "code",
   "execution_count": 15,
   "metadata": {},
   "outputs": [
    {
     "name": "stdout",
     "output_type": "stream",
     "text": [
      "1/1 [==============================] - 0s 16ms/step - loss: 0.1826 - accuracy: 0.9583\n"
     ]
    },
    {
     "data": {
      "text/plain": [
       "[0.18259775638580322, 0.9583333134651184]"
      ]
     },
     "execution_count": 15,
     "metadata": {},
     "output_type": "execute_result"
    }
   ],
   "source": [
    "model.evaluate(x,y)"
   ]
  },
  {
   "cell_type": "markdown",
   "metadata": {},
   "source": [
    "- Save Model History"
   ]
  },
  {
   "cell_type": "code",
   "execution_count": 16,
   "metadata": {},
   "outputs": [],
   "source": [
    "import numpy as np\n",
    "import os"
   ]
  },
  {
   "cell_type": "code",
   "execution_count": 17,
   "metadata": {},
   "outputs": [
    {
     "name": "stdout",
     "output_type": "stream",
     "text": [
      "Already Created\n"
     ]
    }
   ],
   "source": [
    "if not os.path.exists('./Model_history'):\n",
    "    os.mkdir('./Model_history')\n",
    "    print('Directory created')\n",
    "else:\n",
    "    print('Already Created')"
   ]
  },
  {
   "cell_type": "code",
   "execution_count": 18,
   "metadata": {},
   "outputs": [
    {
     "name": "stdout",
     "output_type": "stream",
     "text": [
      "dict_keys(['loss', 'accuracy', 'val_loss', 'val_accuracy'])\n"
     ]
    }
   ],
   "source": [
    "np.save('./Model_history/scratch_file.npy',hist.history)\n",
    "read_dictionary = np.load('./Model_history/scratch_file.npy',allow_pickle='TRUE').item()\n",
    "print(read_dictionary.keys())"
   ]
  },
  {
   "cell_type": "code",
   "execution_count": null,
   "metadata": {},
   "outputs": [],
   "source": []
  }
 ],
 "metadata": {
  "kernelspec": {
   "display_name": "Python 3",
   "language": "python",
   "name": "python3"
  },
  "language_info": {
   "codemirror_mode": {
    "name": "ipython",
    "version": 3
   },
   "file_extension": ".py",
   "mimetype": "text/x-python",
   "name": "python",
   "nbconvert_exporter": "python",
   "pygments_lexer": "ipython3",
   "version": "3.7.5"
  }
 },
 "nbformat": 4,
 "nbformat_minor": 2
}
