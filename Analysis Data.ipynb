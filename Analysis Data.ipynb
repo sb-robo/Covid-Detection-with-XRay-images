{
 "cells": [
  {
   "cell_type": "code",
   "execution_count": 1,
   "metadata": {},
   "outputs": [],
   "source": [
    "import pandas as pd\n",
    "import numpy as np\n",
    "import matplotlib.pyplot as plt\n",
    "import seaborn as sns"
   ]
  },
  {
   "cell_type": "code",
   "execution_count": 23,
   "metadata": {},
   "outputs": [],
   "source": [
    "df = pd.read_csv('./Covid_XRAY/metadata.csv')"
   ]
  },
  {
   "cell_type": "code",
   "execution_count": 24,
   "metadata": {},
   "outputs": [],
   "source": [
    "col = ['survival', 'intubated','intubation_present', 'went_icu', 'in_icu', \n",
    "           'needed_supplemental_O2','extubated', 'temperature', 'pO2_saturation', \n",
    "           'leukocyte_count','neutrophil_count', 'lymphocyte_count', 'folder', \n",
    "           'filename', 'doi', 'url', 'license','clinical_notes', 'other_notes', 'Unnamed: 28']"
   ]
  },
  {
   "cell_type": "code",
   "execution_count": 25,
   "metadata": {},
   "outputs": [
    {
     "data": {
      "text/html": [
       "<div>\n",
       "<style scoped>\n",
       "    .dataframe tbody tr th:only-of-type {\n",
       "        vertical-align: middle;\n",
       "    }\n",
       "\n",
       "    .dataframe tbody tr th {\n",
       "        vertical-align: top;\n",
       "    }\n",
       "\n",
       "    .dataframe thead th {\n",
       "        text-align: right;\n",
       "    }\n",
       "</style>\n",
       "<table border=\"1\" class=\"dataframe\">\n",
       "  <thead>\n",
       "    <tr style=\"text-align: right;\">\n",
       "      <th></th>\n",
       "      <th>patientid</th>\n",
       "      <th>offset</th>\n",
       "      <th>sex</th>\n",
       "      <th>age</th>\n",
       "      <th>finding</th>\n",
       "      <th>view</th>\n",
       "      <th>modality</th>\n",
       "      <th>date</th>\n",
       "      <th>location</th>\n",
       "    </tr>\n",
       "  </thead>\n",
       "  <tbody>\n",
       "    <tr>\n",
       "      <th>0</th>\n",
       "      <td>2</td>\n",
       "      <td>0.0</td>\n",
       "      <td>M</td>\n",
       "      <td>65.0</td>\n",
       "      <td>COVID-19</td>\n",
       "      <td>PA</td>\n",
       "      <td>X-ray</td>\n",
       "      <td>January 22, 2020</td>\n",
       "      <td>Cho Ray Hospital, Ho Chi Minh City, Vietnam</td>\n",
       "    </tr>\n",
       "    <tr>\n",
       "      <th>1</th>\n",
       "      <td>2</td>\n",
       "      <td>3.0</td>\n",
       "      <td>M</td>\n",
       "      <td>65.0</td>\n",
       "      <td>COVID-19</td>\n",
       "      <td>PA</td>\n",
       "      <td>X-ray</td>\n",
       "      <td>January 25, 2020</td>\n",
       "      <td>Cho Ray Hospital, Ho Chi Minh City, Vietnam</td>\n",
       "    </tr>\n",
       "    <tr>\n",
       "      <th>2</th>\n",
       "      <td>2</td>\n",
       "      <td>5.0</td>\n",
       "      <td>M</td>\n",
       "      <td>65.0</td>\n",
       "      <td>COVID-19</td>\n",
       "      <td>PA</td>\n",
       "      <td>X-ray</td>\n",
       "      <td>January 27, 2020</td>\n",
       "      <td>Cho Ray Hospital, Ho Chi Minh City, Vietnam</td>\n",
       "    </tr>\n",
       "    <tr>\n",
       "      <th>3</th>\n",
       "      <td>2</td>\n",
       "      <td>6.0</td>\n",
       "      <td>M</td>\n",
       "      <td>65.0</td>\n",
       "      <td>COVID-19</td>\n",
       "      <td>PA</td>\n",
       "      <td>X-ray</td>\n",
       "      <td>January 28, 2020</td>\n",
       "      <td>Cho Ray Hospital, Ho Chi Minh City, Vietnam</td>\n",
       "    </tr>\n",
       "    <tr>\n",
       "      <th>4</th>\n",
       "      <td>4</td>\n",
       "      <td>0.0</td>\n",
       "      <td>F</td>\n",
       "      <td>52.0</td>\n",
       "      <td>COVID-19</td>\n",
       "      <td>PA</td>\n",
       "      <td>X-ray</td>\n",
       "      <td>January 25, 2020</td>\n",
       "      <td>Changhua Christian Hospital, Changhua City, Ta...</td>\n",
       "    </tr>\n",
       "  </tbody>\n",
       "</table>\n",
       "</div>"
      ],
      "text/plain": [
       "   patientid  offset sex   age   finding view modality              date  \\\n",
       "0          2     0.0   M  65.0  COVID-19   PA    X-ray  January 22, 2020   \n",
       "1          2     3.0   M  65.0  COVID-19   PA    X-ray  January 25, 2020   \n",
       "2          2     5.0   M  65.0  COVID-19   PA    X-ray  January 27, 2020   \n",
       "3          2     6.0   M  65.0  COVID-19   PA    X-ray  January 28, 2020   \n",
       "4          4     0.0   F  52.0  COVID-19   PA    X-ray  January 25, 2020   \n",
       "\n",
       "                                            location  \n",
       "0        Cho Ray Hospital, Ho Chi Minh City, Vietnam  \n",
       "1        Cho Ray Hospital, Ho Chi Minh City, Vietnam  \n",
       "2        Cho Ray Hospital, Ho Chi Minh City, Vietnam  \n",
       "3        Cho Ray Hospital, Ho Chi Minh City, Vietnam  \n",
       "4  Changhua Christian Hospital, Changhua City, Ta...  "
      ]
     },
     "execution_count": 25,
     "metadata": {},
     "output_type": "execute_result"
    }
   ],
   "source": [
    "df = df.drop(labels = col,axis=1)\n",
    "\n",
    "null_list = list(df['sex'].isnull())\n",
    "for i,row in df.iterrows():\n",
    "    if null_list[i] == True:\n",
    "        df = df.drop(i)\n",
    "        \n",
    "df.head()"
   ]
  },
  {
   "cell_type": "code",
   "execution_count": 26,
   "metadata": {},
   "outputs": [
    {
     "name": "stdout",
     "output_type": "stream",
     "text": [
      "<class 'pandas.core.frame.DataFrame'>\n",
      "Int64Index: 329 entries, 0 to 371\n",
      "Data columns (total 9 columns):\n",
      "patientid    329 non-null int64\n",
      "offset       254 non-null float64\n",
      "sex          329 non-null object\n",
      "age          315 non-null float64\n",
      "finding      329 non-null object\n",
      "view         329 non-null object\n",
      "modality     329 non-null object\n",
      "date         253 non-null object\n",
      "location     246 non-null object\n",
      "dtypes: float64(2), int64(1), object(6)\n",
      "memory usage: 25.7+ KB\n"
     ]
    }
   ],
   "source": [
    "df.info()"
   ]
  },
  {
   "cell_type": "code",
   "execution_count": 29,
   "metadata": {},
   "outputs": [],
   "source": [
    "df['offset'] = df['offset'].fillna(df['offset'].mean())\n",
    "df['age'] = df['age'].fillna(df['age'].mean())\n",
    "df['location'] = df['age'].fillna(np.random.choice(['Vietnam','Taiwan','Canada','China','Australia','Italy']))"
   ]
  },
  {
   "cell_type": "code",
   "execution_count": 30,
   "metadata": {},
   "outputs": [
    {
     "name": "stdout",
     "output_type": "stream",
     "text": [
      "<class 'pandas.core.frame.DataFrame'>\n",
      "Int64Index: 329 entries, 0 to 371\n",
      "Data columns (total 9 columns):\n",
      "patientid    329 non-null int64\n",
      "offset       329 non-null float64\n",
      "sex          329 non-null object\n",
      "age          329 non-null float64\n",
      "finding      329 non-null object\n",
      "view         329 non-null object\n",
      "modality     329 non-null object\n",
      "date         253 non-null object\n",
      "location     329 non-null float64\n",
      "dtypes: float64(3), int64(1), object(5)\n",
      "memory usage: 25.7+ KB\n"
     ]
    }
   ],
   "source": [
    "df.info()"
   ]
  },
  {
   "cell_type": "code",
   "execution_count": null,
   "metadata": {},
   "outputs": [],
   "source": []
  },
  {
   "cell_type": "code",
   "execution_count": null,
   "metadata": {},
   "outputs": [],
   "source": []
  },
  {
   "cell_type": "code",
   "execution_count": null,
   "metadata": {},
   "outputs": [],
   "source": []
  }
 ],
 "metadata": {
  "kernelspec": {
   "display_name": "Python 3",
   "language": "python",
   "name": "python3"
  },
  "language_info": {
   "codemirror_mode": {
    "name": "ipython",
    "version": 3
   },
   "file_extension": ".py",
   "mimetype": "text/x-python",
   "name": "python",
   "nbconvert_exporter": "python",
   "pygments_lexer": "ipython3",
   "version": "3.7.5"
  }
 },
 "nbformat": 4,
 "nbformat_minor": 2
}
