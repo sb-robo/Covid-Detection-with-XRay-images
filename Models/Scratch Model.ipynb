{
 "cells": [
  {
   "cell_type": "markdown",
   "metadata": {},
   "source": [
    "### Data Generator"
   ]
  },
  {
   "cell_type": "code",
   "execution_count": 1,
   "metadata": {},
   "outputs": [],
   "source": [
    "import tensorflow as tf\n",
    "from tensorflow.keras.preprocessing import image"
   ]
  },
  {
   "cell_type": "code",
   "execution_count": 2,
   "metadata": {},
   "outputs": [],
   "source": [
    "train_idg = image.ImageDataGenerator(\n",
    "    rescale=1./255,\n",
    "    width_shift_range=0.2,\n",
    "    height_shift_range=0.1,\n",
    "    shear_range=0.2,\n",
    "    zoom_range=0.1,\n",
    "    horizontal_flip=True\n",
    ")\n",
    "\n",
    "val_idg = image.ImageDataGenerator(\n",
    "    rescale=1./255\n",
    ")"
   ]
  },
  {
   "cell_type": "code",
   "execution_count": 3,
   "metadata": {},
   "outputs": [
    {
     "name": "stdout",
     "output_type": "stream",
     "text": [
      "Found 273 images belonging to 2 classes.\n"
     ]
    }
   ],
   "source": [
    "train_generator = train_idg.flow_from_directory(\n",
    "    '../Dataset/train',\n",
    "    target_size=(224,224),\n",
    "    batch_size=32,\n",
    "    class_mode='sparse'\n",
    ")"
   ]
  },
  {
   "cell_type": "code",
   "execution_count": 4,
   "metadata": {},
   "outputs": [
    {
     "name": "stdout",
     "output_type": "stream",
     "text": [
      "Found 68 images belonging to 2 classes.\n"
     ]
    }
   ],
   "source": [
    "val_generator = val_idg.flow_from_directory(\n",
    "    '../Dataset/test',\n",
    "    target_size=(224,224),\n",
    "    batch_size=24,\n",
    "    class_mode='sparse'\n",
    ")"
   ]
  },
  {
   "cell_type": "markdown",
   "metadata": {},
   "source": [
    "### Scratch Model"
   ]
  },
  {
   "cell_type": "code",
   "execution_count": 5,
   "metadata": {},
   "outputs": [],
   "source": [
    "from keras.layers import *\n",
    "from keras.models import Sequential"
   ]
  },
  {
   "cell_type": "code",
   "execution_count": 6,
   "metadata": {},
   "outputs": [],
   "source": [
    "model = Sequential()"
   ]
  },
  {
   "cell_type": "code",
   "execution_count": 7,
   "metadata": {},
   "outputs": [],
   "source": [
    "model.add(Conv2D(32,kernel_size=(3,3),activation='relu',input_shape=(224,224,3)))\n",
    "model.add(Conv2D(64,kernel_size=(3,3),activation='relu'))\n",
    "model.add(MaxPooling2D(pool_size=(2,2)))\n",
    "model.add(Dropout(0.5))\n",
    "\n",
    "model.add(Conv2D(64,kernel_size=(3,3),activation='relu'))\n",
    "model.add(MaxPooling2D(pool_size=(2,2)))\n",
    "model.add(Dropout(0.25))\n",
    "\n",
    "model.add(Conv2D(128,kernel_size=(3,3),activation='relu'))\n",
    "model.add(MaxPooling2D(pool_size=(2,2)))\n",
    "model.add(Dropout(0.3))\n",
    "\n",
    "model.add(Flatten())\n",
    "model.add(Dense(64,activation='relu'))\n",
    "model.add(Dropout(0.25))\n",
    "model.add(Dense(2,activation='softmax'))"
   ]
  },
  {
   "cell_type": "code",
   "execution_count": 8,
   "metadata": {},
   "outputs": [
    {
     "name": "stdout",
     "output_type": "stream",
     "text": [
      "Model: \"sequential\"\n",
      "_________________________________________________________________\n",
      "Layer (type)                 Output Shape              Param #   \n",
      "=================================================================\n",
      "conv2d (Conv2D)              (None, 222, 222, 32)      896       \n",
      "_________________________________________________________________\n",
      "conv2d_1 (Conv2D)            (None, 220, 220, 64)      18496     \n",
      "_________________________________________________________________\n",
      "max_pooling2d (MaxPooling2D) (None, 110, 110, 64)      0         \n",
      "_________________________________________________________________\n",
      "dropout (Dropout)            (None, 110, 110, 64)      0         \n",
      "_________________________________________________________________\n",
      "conv2d_2 (Conv2D)            (None, 108, 108, 64)      36928     \n",
      "_________________________________________________________________\n",
      "max_pooling2d_1 (MaxPooling2 (None, 54, 54, 64)        0         \n",
      "_________________________________________________________________\n",
      "dropout_1 (Dropout)          (None, 54, 54, 64)        0         \n",
      "_________________________________________________________________\n",
      "conv2d_3 (Conv2D)            (None, 52, 52, 128)       73856     \n",
      "_________________________________________________________________\n",
      "max_pooling2d_2 (MaxPooling2 (None, 26, 26, 128)       0         \n",
      "_________________________________________________________________\n",
      "dropout_2 (Dropout)          (None, 26, 26, 128)       0         \n",
      "_________________________________________________________________\n",
      "flatten (Flatten)            (None, 86528)             0         \n",
      "_________________________________________________________________\n",
      "dense (Dense)                (None, 64)                5537856   \n",
      "_________________________________________________________________\n",
      "dropout_3 (Dropout)          (None, 64)                0         \n",
      "_________________________________________________________________\n",
      "dense_1 (Dense)              (None, 2)                 130       \n",
      "=================================================================\n",
      "Total params: 5,668,162\n",
      "Trainable params: 5,668,162\n",
      "Non-trainable params: 0\n",
      "_________________________________________________________________\n"
     ]
    }
   ],
   "source": [
    "model.summary()"
   ]
  },
  {
   "cell_type": "code",
   "execution_count": 9,
   "metadata": {},
   "outputs": [],
   "source": [
    "model.compile(loss=tf.keras.losses.SparseCategoricalCrossentropy(from_logits=True),optimizer='adam',metrics=['accuracy'])"
   ]
  },
  {
   "cell_type": "markdown",
   "metadata": {},
   "source": [
    "- Train Model"
   ]
  },
  {
   "cell_type": "code",
   "execution_count": 10,
   "metadata": {},
   "outputs": [],
   "source": [
    "from keras.callbacks import ModelCheckpoint\n",
    "import os"
   ]
  },
  {
   "cell_type": "code",
   "execution_count": 11,
   "metadata": {},
   "outputs": [
    {
     "name": "stdout",
     "output_type": "stream",
     "text": [
      "Already Created\n"
     ]
    }
   ],
   "source": [
    "if not os.path.exists('../Weights/Scratch'):\n",
    "    os.mkdir('../Weights/Scratch')\n",
    "    print('Directory created')\n",
    "else:\n",
    "    print('Already Created')"
   ]
  },
  {
   "cell_type": "code",
   "execution_count": 1,
   "metadata": {},
   "outputs": [],
   "source": [
    "import os\n",
    "import glob"
   ]
  },
  {
   "cell_type": "code",
   "execution_count": 2,
   "metadata": {},
   "outputs": [],
   "source": [
    "files = glob.glob('../Weights/Scratch/*')\n",
    "for f in files:\n",
    "    os.remove(f)"
   ]
  },
  {
   "cell_type": "code",
   "execution_count": 13,
   "metadata": {},
   "outputs": [],
   "source": [
    "checkpoint = ModelCheckpoint('../Weights/Scratch/model_{epoch}_{val_accuracy:.2f}.h5', \n",
    "                             monitor='val_accuracy', \n",
    "                             verbose=1, \n",
    "                             mode='auto',\n",
    "                             #save_weights_only=True\n",
    "                            )"
   ]
  },
  {
   "cell_type": "code",
   "execution_count": 14,
   "metadata": {
    "scrolled": true
   },
   "outputs": [
    {
     "name": "stdout",
     "output_type": "stream",
     "text": [
      "Epoch 1/10\n",
      "9/9 [==============================] - ETA: 0s - loss: 0.7070 - accuracy: 0.5751\n",
      "Epoch 00001: saving model to ../Weights/Scratch/model_1_0.59.h5\n",
      "9/9 [==============================] - 94s 10s/step - loss: 0.7070 - accuracy: 0.5751 - val_loss: 0.6407 - val_accuracy: 0.5882\n",
      "Epoch 2/10\n",
      "9/9 [==============================] - ETA: 0s - loss: 0.6245 - accuracy: 0.6703\n",
      "Epoch 00002: saving model to ../Weights/Scratch/model_2_0.78.h5\n",
      "9/9 [==============================] - 92s 10s/step - loss: 0.6245 - accuracy: 0.6703 - val_loss: 0.6197 - val_accuracy: 0.7794\n",
      "Epoch 3/10\n",
      "9/9 [==============================] - ETA: 0s - loss: 0.5125 - accuracy: 0.7912\n",
      "Epoch 00003: saving model to ../Weights/Scratch/model_3_0.93.h5\n",
      "9/9 [==============================] - 97s 11s/step - loss: 0.5125 - accuracy: 0.7912 - val_loss: 0.5310 - val_accuracy: 0.9265\n",
      "Epoch 4/10\n",
      "9/9 [==============================] - ETA: 0s - loss: 0.4247 - accuracy: 0.8901 \n",
      "Epoch 00004: saving model to ../Weights/Scratch/model_4_0.96.h5\n",
      "9/9 [==============================] - 101s 11s/step - loss: 0.4247 - accuracy: 0.8901 - val_loss: 0.3882 - val_accuracy: 0.9559\n",
      "Epoch 5/10\n",
      "9/9 [==============================] - ETA: 0s - loss: 0.3801 - accuracy: 0.9414\n",
      "Epoch 00005: saving model to ../Weights/Scratch/model_5_0.99.h5\n",
      "9/9 [==============================] - 93s 10s/step - loss: 0.3801 - accuracy: 0.9414 - val_loss: 0.3555 - val_accuracy: 0.9853\n",
      "Epoch 6/10\n",
      "9/9 [==============================] - ETA: 0s - loss: 0.3702 - accuracy: 0.9414\n",
      "Epoch 00006: saving model to ../Weights/Scratch/model_6_1.00.h5\n",
      "9/9 [==============================] - 97s 11s/step - loss: 0.3702 - accuracy: 0.9414 - val_loss: 0.3398 - val_accuracy: 1.0000\n",
      "Epoch 7/10\n",
      "9/9 [==============================] - ETA: 0s - loss: 0.3789 - accuracy: 0.9414 \n",
      "Epoch 00007: saving model to ../Weights/Scratch/model_7_0.97.h5\n",
      "9/9 [==============================] - 97s 11s/step - loss: 0.3789 - accuracy: 0.9414 - val_loss: 0.3484 - val_accuracy: 0.9706\n",
      "Epoch 8/10\n",
      "9/9 [==============================] - ETA: 0s - loss: 0.3611 - accuracy: 0.9560 \n",
      "Epoch 00008: saving model to ../Weights/Scratch/model_8_0.96.h5\n",
      "9/9 [==============================] - 103s 11s/step - loss: 0.3611 - accuracy: 0.9560 - val_loss: 0.3506 - val_accuracy: 0.9559\n",
      "Epoch 9/10\n",
      "9/9 [==============================] - ETA: 0s - loss: 0.3519 - accuracy: 0.9560 \n",
      "Epoch 00009: saving model to ../Weights/Scratch/model_9_0.96.h5\n",
      "9/9 [==============================] - 103s 11s/step - loss: 0.3519 - accuracy: 0.9560 - val_loss: 0.3577 - val_accuracy: 0.9559\n",
      "Epoch 10/10\n",
      "9/9 [==============================] - ETA: 0s - loss: 0.3716 - accuracy: 0.9377 \n",
      "Epoch 00010: saving model to ../Weights/Scratch/model_10_0.97.h5\n",
      "9/9 [==============================] - 102s 11s/step - loss: 0.3716 - accuracy: 0.9377 - val_loss: 0.3432 - val_accuracy: 0.9706\n"
     ]
    }
   ],
   "source": [
    "hist = model.fit(\n",
    "    train_generator,\n",
    "    steps_per_epoch=9,\n",
    "    epochs=10,\n",
    "    validation_data=val_generator,\n",
    "    validation_steps=3,\n",
    "    callbacks=checkpoint\n",
    ")"
   ]
  },
  {
   "cell_type": "code",
   "execution_count": 20,
   "metadata": {},
   "outputs": [],
   "source": [
    "x,y=val_generator.next()"
   ]
  },
  {
   "cell_type": "code",
   "execution_count": 21,
   "metadata": {},
   "outputs": [
    {
     "name": "stdout",
     "output_type": "stream",
     "text": [
      "1/1 [==============================] - 0s 3ms/step - loss: 0.3154 - accuracy: 1.0000\n"
     ]
    },
    {
     "data": {
      "text/plain": [
       "[0.3153679072856903, 1.0]"
      ]
     },
     "execution_count": 21,
     "metadata": {},
     "output_type": "execute_result"
    }
   ],
   "source": [
    "model.evaluate(x,y)"
   ]
  },
  {
   "cell_type": "markdown",
   "metadata": {},
   "source": [
    "- Save Model History"
   ]
  },
  {
   "cell_type": "code",
   "execution_count": 17,
   "metadata": {},
   "outputs": [],
   "source": [
    "import numpy as np\n",
    "import os"
   ]
  },
  {
   "cell_type": "code",
   "execution_count": 18,
   "metadata": {},
   "outputs": [
    {
     "name": "stdout",
     "output_type": "stream",
     "text": [
      "Already Created\n"
     ]
    }
   ],
   "source": [
    "if not os.path.exists('../Model_history'):\n",
    "    os.mkdir('../Model_history')\n",
    "    print('Directory created')\n",
    "else:\n",
    "    print('Already Created')"
   ]
  },
  {
   "cell_type": "code",
   "execution_count": 19,
   "metadata": {},
   "outputs": [
    {
     "name": "stdout",
     "output_type": "stream",
     "text": [
      "dict_keys(['loss', 'accuracy', 'val_loss', 'val_accuracy'])\n"
     ]
    }
   ],
   "source": [
    "np.save('../Model_history/scratch_file.npy',hist.history)\n",
    "read_dictionary = np.load('../Model_history/scratch_file.npy',allow_pickle='TRUE').item()\n",
    "print(read_dictionary.keys())"
   ]
  },
  {
   "cell_type": "code",
   "execution_count": null,
   "metadata": {},
   "outputs": [],
   "source": []
  }
 ],
 "metadata": {
  "kernelspec": {
   "display_name": "Python 3",
   "language": "python",
   "name": "python3"
  },
  "language_info": {
   "codemirror_mode": {
    "name": "ipython",
    "version": 3
   },
   "file_extension": ".py",
   "mimetype": "text/x-python",
   "name": "python",
   "nbconvert_exporter": "python",
   "pygments_lexer": "ipython3",
   "version": "3.8.5"
  },
  "toc": {
   "base_numbering": 1,
   "nav_menu": {},
   "number_sections": true,
   "sideBar": true,
   "skip_h1_title": false,
   "title_cell": "Table of Contents",
   "title_sidebar": "Contents",
   "toc_cell": false,
   "toc_position": {},
   "toc_section_display": true,
   "toc_window_display": false
  }
 },
 "nbformat": 4,
 "nbformat_minor": 2
}
