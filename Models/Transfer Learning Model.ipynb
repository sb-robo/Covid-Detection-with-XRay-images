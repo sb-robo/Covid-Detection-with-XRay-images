{
 "cells": [
  {
   "cell_type": "markdown",
   "metadata": {},
   "source": [
    "### Data Generator"
   ]
  },
  {
   "cell_type": "code",
   "execution_count": 1,
   "metadata": {},
   "outputs": [],
   "source": [
    "import tensorflow as tf\n",
    "from tensorflow.keras.preprocessing import image"
   ]
  },
  {
   "cell_type": "code",
   "execution_count": 2,
   "metadata": {},
   "outputs": [],
   "source": [
    "train_idg = image.ImageDataGenerator(\n",
    "    #rescale=1./255,\n",
    "    width_shift_range=0.2,\n",
    "    height_shift_range=0.1,\n",
    "    shear_range=0.2,\n",
    "    zoom_range=0.1,\n",
    "    horizontal_flip=True\n",
    ")\n",
    "\n",
    "val_idg = image.ImageDataGenerator(\n",
    "    #rescale=1./255\n",
    ")"
   ]
  },
  {
   "cell_type": "code",
   "execution_count": 3,
   "metadata": {},
   "outputs": [
    {
     "name": "stdout",
     "output_type": "stream",
     "text": [
      "Found 273 images belonging to 2 classes.\n"
     ]
    }
   ],
   "source": [
    "train_generator = train_idg.flow_from_directory(\n",
    "    '../Dataset/train',\n",
    "    target_size=(224,224),\n",
    "    batch_size=32,\n",
    "    class_mode='binary'\n",
    ")"
   ]
  },
  {
   "cell_type": "code",
   "execution_count": 4,
   "metadata": {},
   "outputs": [
    {
     "name": "stdout",
     "output_type": "stream",
     "text": [
      "Found 68 images belonging to 2 classes.\n"
     ]
    }
   ],
   "source": [
    "val_generator = val_idg.flow_from_directory(\n",
    "    '../Dataset/test',\n",
    "    target_size=(224,224),\n",
    "    batch_size=24,\n",
    "    class_mode='binary'\n",
    ")"
   ]
  },
  {
   "cell_type": "markdown",
   "metadata": {},
   "source": [
    "### Resnet50 Model"
   ]
  },
  {
   "cell_type": "code",
   "execution_count": 5,
   "metadata": {},
   "outputs": [],
   "source": [
    "from keras.applications import VGG16\n",
    "from keras.layers import *\n",
    "from keras.models import Model\n",
    "from keras.optimizers import Adam"
   ]
  },
  {
   "cell_type": "code",
   "execution_count": 6,
   "metadata": {},
   "outputs": [],
   "source": [
    "model = VGG16(include_top=False,weights=None,input_shape=(224,224,3))"
   ]
  },
  {
   "cell_type": "code",
   "execution_count": 7,
   "metadata": {},
   "outputs": [
    {
     "name": "stdout",
     "output_type": "stream",
     "text": [
      "Model: \"vgg16\"\n",
      "_________________________________________________________________\n",
      "Layer (type)                 Output Shape              Param #   \n",
      "=================================================================\n",
      "input_1 (InputLayer)         [(None, 224, 224, 3)]     0         \n",
      "_________________________________________________________________\n",
      "block1_conv1 (Conv2D)        (None, 224, 224, 64)      1792      \n",
      "_________________________________________________________________\n",
      "block1_conv2 (Conv2D)        (None, 224, 224, 64)      36928     \n",
      "_________________________________________________________________\n",
      "block1_pool (MaxPooling2D)   (None, 112, 112, 64)      0         \n",
      "_________________________________________________________________\n",
      "block2_conv1 (Conv2D)        (None, 112, 112, 128)     73856     \n",
      "_________________________________________________________________\n",
      "block2_conv2 (Conv2D)        (None, 112, 112, 128)     147584    \n",
      "_________________________________________________________________\n",
      "block2_pool (MaxPooling2D)   (None, 56, 56, 128)       0         \n",
      "_________________________________________________________________\n",
      "block3_conv1 (Conv2D)        (None, 56, 56, 256)       295168    \n",
      "_________________________________________________________________\n",
      "block3_conv2 (Conv2D)        (None, 56, 56, 256)       590080    \n",
      "_________________________________________________________________\n",
      "block3_conv3 (Conv2D)        (None, 56, 56, 256)       590080    \n",
      "_________________________________________________________________\n",
      "block3_pool (MaxPooling2D)   (None, 28, 28, 256)       0         \n",
      "_________________________________________________________________\n",
      "block4_conv1 (Conv2D)        (None, 28, 28, 512)       1180160   \n",
      "_________________________________________________________________\n",
      "block4_conv2 (Conv2D)        (None, 28, 28, 512)       2359808   \n",
      "_________________________________________________________________\n",
      "block4_conv3 (Conv2D)        (None, 28, 28, 512)       2359808   \n",
      "_________________________________________________________________\n",
      "block4_pool (MaxPooling2D)   (None, 14, 14, 512)       0         \n",
      "_________________________________________________________________\n",
      "block5_conv1 (Conv2D)        (None, 14, 14, 512)       2359808   \n",
      "_________________________________________________________________\n",
      "block5_conv2 (Conv2D)        (None, 14, 14, 512)       2359808   \n",
      "_________________________________________________________________\n",
      "block5_conv3 (Conv2D)        (None, 14, 14, 512)       2359808   \n",
      "_________________________________________________________________\n",
      "block5_pool (MaxPooling2D)   (None, 7, 7, 512)         0         \n",
      "=================================================================\n",
      "Total params: 14,714,688\n",
      "Trainable params: 14,714,688\n",
      "Non-trainable params: 0\n",
      "_________________________________________________________________\n"
     ]
    }
   ],
   "source": [
    "model.summary()"
   ]
  },
  {
   "cell_type": "code",
   "execution_count": 8,
   "metadata": {},
   "outputs": [],
   "source": [
    "av1 = GlobalAveragePooling2D()(model.output)\n",
    "drop1 = Dropout(0.5)(av1)\n",
    "d1 = Dense(256,activation='relu')(drop1)\n",
    "out = Dense(1,activation='softmax')(d1)"
   ]
  },
  {
   "cell_type": "code",
   "execution_count": 9,
   "metadata": {},
   "outputs": [
    {
     "data": {
      "text/plain": [
       "23"
      ]
     },
     "execution_count": 9,
     "metadata": {},
     "output_type": "execute_result"
    }
   ],
   "source": [
    "resnet50 = Model(model.input,out)\n",
    "len(resnet50.layers)"
   ]
  },
  {
   "cell_type": "markdown",
   "metadata": {},
   "source": [
    "for i in range(169):\n",
    "    resnet50.layers[i].trainable = False\n",
    "    \n",
    "resnet50.summary()"
   ]
  },
  {
   "cell_type": "code",
   "execution_count": 10,
   "metadata": {},
   "outputs": [],
   "source": [
    "adam = Adam(lr=0.0001)\n",
    "resnet50.compile(loss='binary_crossentropy',optimizer='adam',metrics=['accuracy'])"
   ]
  },
  {
   "cell_type": "markdown",
   "metadata": {},
   "source": [
    "- Train Model"
   ]
  },
  {
   "cell_type": "code",
   "execution_count": 11,
   "metadata": {},
   "outputs": [],
   "source": [
    "from keras.callbacks import ModelCheckpoint\n",
    "import os"
   ]
  },
  {
   "cell_type": "code",
   "execution_count": 12,
   "metadata": {},
   "outputs": [
    {
     "name": "stdout",
     "output_type": "stream",
     "text": [
      "Already Created\n"
     ]
    }
   ],
   "source": [
    "if not os.path.exists('../Weights/Resnet50'):\n",
    "    os.mkdir('../Weights/Resnet50')\n",
    "    print('Directory created')\n",
    "else:\n",
    "    print('Already Created')"
   ]
  },
  {
   "cell_type": "code",
   "execution_count": 13,
   "metadata": {},
   "outputs": [],
   "source": [
    "checkpoint = ModelCheckpoint(\n",
    "    '../Weights/Resnet50/best_model.h5',\n",
    "    monitor='val_accuracy', \n",
    "    verbose=1, \n",
    "    mode='auto',\n",
    "    save_weights_only=True,\n",
    "    Save_best_only=True\n",
    ")"
   ]
  },
  {
   "cell_type": "code",
   "execution_count": 14,
   "metadata": {},
   "outputs": [
    {
     "name": "stdout",
     "output_type": "stream",
     "text": [
      "Epoch 1/10\n",
      "9/9 [==============================] - ETA: 0s - loss: 6.3120 - accuracy: 0.5861  \n",
      "Epoch 00001: saving model to ../Weights/Resnet50/best_model.h5\n",
      "9/9 [==============================] - 714s 79s/step - loss: 6.3120 - accuracy: 0.5861 - val_loss: 6.2791 - val_accuracy: 0.5882\n",
      "Epoch 2/10\n",
      "9/9 [==============================] - ETA: 0s - loss: 6.3120 - accuracy: 0.5861  \n",
      "Epoch 00002: saving model to ../Weights/Resnet50/best_model.h5\n",
      "9/9 [==============================] - 721s 80s/step - loss: 6.3120 - accuracy: 0.5861 - val_loss: 5.6063 - val_accuracy: 0.6324\n",
      "Epoch 3/10\n",
      "9/9 [==============================] - ETA: 0s - loss: 6.3120 - accuracy: 0.5861  \n",
      "Epoch 00003: saving model to ../Weights/Resnet50/best_model.h5\n",
      "9/9 [==============================] - 675s 75s/step - loss: 6.3120 - accuracy: 0.5861 - val_loss: 5.3821 - val_accuracy: 0.6471\n",
      "Epoch 4/10\n",
      "9/9 [==============================] - ETA: 0s - loss: 6.3120 - accuracy: 0.5861  \n",
      "Epoch 00004: saving model to ../Weights/Resnet50/best_model.h5\n",
      "9/9 [==============================] - 728s 81s/step - loss: 6.3120 - accuracy: 0.5861 - val_loss: 6.2791 - val_accuracy: 0.5882\n",
      "Epoch 5/10\n",
      "9/9 [==============================] - ETA: 0s - loss: 6.3120 - accuracy: 0.5861  \n",
      "Epoch 00005: saving model to ../Weights/Resnet50/best_model.h5\n",
      "9/9 [==============================] - 623s 69s/step - loss: 6.3120 - accuracy: 0.5861 - val_loss: 6.5034 - val_accuracy: 0.5735\n",
      "Epoch 6/10\n",
      "9/9 [==============================] - ETA: 0s - loss: 6.3120 - accuracy: 0.5861  \n",
      "Epoch 00006: saving model to ../Weights/Resnet50/best_model.h5\n",
      "9/9 [==============================] - 685s 76s/step - loss: 6.3120 - accuracy: 0.5861 - val_loss: 7.1761 - val_accuracy: 0.5294\n",
      "Epoch 7/10\n",
      "9/9 [==============================] - ETA: 0s - loss: 6.3120 - accuracy: 0.5861  \n",
      "Epoch 00007: saving model to ../Weights/Resnet50/best_model.h5\n",
      "9/9 [==============================] - 701s 78s/step - loss: 6.3120 - accuracy: 0.5861 - val_loss: 6.2791 - val_accuracy: 0.5882\n",
      "Epoch 8/10\n",
      "9/9 [==============================] - ETA: 0s - loss: 6.3120 - accuracy: 0.5861  \n",
      "Epoch 00008: saving model to ../Weights/Resnet50/best_model.h5\n",
      "9/9 [==============================] - 722s 80s/step - loss: 6.3120 - accuracy: 0.5861 - val_loss: 5.6063 - val_accuracy: 0.6324\n",
      "Epoch 9/10\n",
      "9/9 [==============================] - ETA: 0s - loss: 6.3120 - accuracy: 0.5861  \n",
      "Epoch 00009: saving model to ../Weights/Resnet50/best_model.h5\n",
      "9/9 [==============================] - 707s 79s/step - loss: 6.3120 - accuracy: 0.5861 - val_loss: 5.6063 - val_accuracy: 0.6324\n",
      "Epoch 10/10\n",
      "9/9 [==============================] - ETA: 0s - loss: 6.3120 - accuracy: 0.5861  \n",
      "Epoch 00010: saving model to ../Weights/Resnet50/best_model.h5\n",
      "9/9 [==============================] - 704s 78s/step - loss: 6.3120 - accuracy: 0.5861 - val_loss: 6.2791 - val_accuracy: 0.5882\n"
     ]
    }
   ],
   "source": [
    "hist = resnet50.fit(\n",
    "    train_generator,\n",
    "    steps_per_epoch=9,\n",
    "    epochs=10,\n",
    "    validation_data=val_generator,\n",
    "    validation_steps=3,\n",
    "    callbacks=checkpoint\n",
    ")"
   ]
  },
  {
   "cell_type": "code",
   "execution_count": null,
   "metadata": {},
   "outputs": [],
   "source": []
  }
 ],
 "metadata": {
  "kernelspec": {
   "display_name": "Python 3",
   "language": "python",
   "name": "python3"
  },
  "language_info": {
   "codemirror_mode": {
    "name": "ipython",
    "version": 3
   },
   "file_extension": ".py",
   "mimetype": "text/x-python",
   "name": "python",
   "nbconvert_exporter": "python",
   "pygments_lexer": "ipython3",
   "version": "3.7.5"
  }
 },
 "nbformat": 4,
 "nbformat_minor": 2
}
