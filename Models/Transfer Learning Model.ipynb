{
 "cells": [
  {
   "cell_type": "markdown",
   "metadata": {},
   "source": [
    "### Data Generator"
   ]
  },
  {
   "cell_type": "code",
   "execution_count": 1,
   "metadata": {},
   "outputs": [],
   "source": [
    "import tensorflow as tf\n",
    "from tensorflow.keras.preprocessing import image"
   ]
  },
  {
   "cell_type": "code",
   "execution_count": 2,
   "metadata": {},
   "outputs": [],
   "source": [
    "train_idg = image.ImageDataGenerator(\n",
    "    rescale=1./255,\n",
    "    width_shift_range=0.2,\n",
    "    height_shift_range=0.1,\n",
    "    shear_range=0.2,\n",
    "    zoom_range=0.1,\n",
    "    horizontal_flip=True\n",
    ")\n",
    "\n",
    "val_idg = image.ImageDataGenerator(\n",
    "    rescale=1./255\n",
    ")"
   ]
  },
  {
   "cell_type": "code",
   "execution_count": 3,
   "metadata": {},
   "outputs": [
    {
     "name": "stdout",
     "output_type": "stream",
     "text": [
      "Found 273 images belonging to 2 classes.\n"
     ]
    }
   ],
   "source": [
    "train_generator = train_idg.flow_from_directory(\n",
    "    '../Dataset/train',\n",
    "    target_size=(224,224),\n",
    "    batch_size=32,\n",
    "    class_mode='binary'\n",
    ")"
   ]
  },
  {
   "cell_type": "code",
   "execution_count": 4,
   "metadata": {},
   "outputs": [
    {
     "name": "stdout",
     "output_type": "stream",
     "text": [
      "Found 68 images belonging to 2 classes.\n"
     ]
    }
   ],
   "source": [
    "val_generator = val_idg.flow_from_directory(\n",
    "    '../Dataset/test',\n",
    "    target_size=(224,224),\n",
    "    batch_size=24,\n",
    "    class_mode='binary'\n",
    ")"
   ]
  },
  {
   "cell_type": "markdown",
   "metadata": {},
   "source": [
    "### Vgg16 Model"
   ]
  },
  {
   "cell_type": "code",
   "execution_count": 5,
   "metadata": {},
   "outputs": [],
   "source": [
    "from keras.applications import VGG16\n",
    "from keras.layers import *\n",
    "from keras.models import Model\n",
    "from keras.optimizers import Adam"
   ]
  },
  {
   "cell_type": "code",
   "execution_count": 6,
   "metadata": {},
   "outputs": [],
   "source": [
    "model = VGG16(include_top=False,weights='imagenet',input_shape=(224,224,3))"
   ]
  },
  {
   "cell_type": "code",
   "execution_count": 7,
   "metadata": {},
   "outputs": [],
   "source": [
    "av1 = GlobalAveragePooling2D()(model.output)\n",
    "f1 = Flatten()(av1)\n",
    "drop1 = Dropout(0.5)(f1)\n",
    "d1 = Dense(256,activation='relu')(drop1)\n",
    "d2 = Dropout(0.5)(d1)\n",
    "out = Dense(1,activation='sigmoid')(d2)"
   ]
  },
  {
   "cell_type": "code",
   "execution_count": 8,
   "metadata": {},
   "outputs": [
    {
     "name": "stdout",
     "output_type": "stream",
     "text": [
      "25\n"
     ]
    }
   ],
   "source": [
    "vgg = Model(model.input,out)\n",
    "print(len(vgg.layers))"
   ]
  },
  {
   "cell_type": "code",
   "execution_count": 9,
   "metadata": {},
   "outputs": [
    {
     "name": "stdout",
     "output_type": "stream",
     "text": [
      "Model: \"model\"\n",
      "_________________________________________________________________\n",
      "Layer (type)                 Output Shape              Param #   \n",
      "=================================================================\n",
      "input_1 (InputLayer)         [(None, 224, 224, 3)]     0         \n",
      "_________________________________________________________________\n",
      "block1_conv1 (Conv2D)        (None, 224, 224, 64)      1792      \n",
      "_________________________________________________________________\n",
      "block1_conv2 (Conv2D)        (None, 224, 224, 64)      36928     \n",
      "_________________________________________________________________\n",
      "block1_pool (MaxPooling2D)   (None, 112, 112, 64)      0         \n",
      "_________________________________________________________________\n",
      "block2_conv1 (Conv2D)        (None, 112, 112, 128)     73856     \n",
      "_________________________________________________________________\n",
      "block2_conv2 (Conv2D)        (None, 112, 112, 128)     147584    \n",
      "_________________________________________________________________\n",
      "block2_pool (MaxPooling2D)   (None, 56, 56, 128)       0         \n",
      "_________________________________________________________________\n",
      "block3_conv1 (Conv2D)        (None, 56, 56, 256)       295168    \n",
      "_________________________________________________________________\n",
      "block3_conv2 (Conv2D)        (None, 56, 56, 256)       590080    \n",
      "_________________________________________________________________\n",
      "block3_conv3 (Conv2D)        (None, 56, 56, 256)       590080    \n",
      "_________________________________________________________________\n",
      "block3_pool (MaxPooling2D)   (None, 28, 28, 256)       0         \n",
      "_________________________________________________________________\n",
      "block4_conv1 (Conv2D)        (None, 28, 28, 512)       1180160   \n",
      "_________________________________________________________________\n",
      "block4_conv2 (Conv2D)        (None, 28, 28, 512)       2359808   \n",
      "_________________________________________________________________\n",
      "block4_conv3 (Conv2D)        (None, 28, 28, 512)       2359808   \n",
      "_________________________________________________________________\n",
      "block4_pool (MaxPooling2D)   (None, 14, 14, 512)       0         \n",
      "_________________________________________________________________\n",
      "block5_conv1 (Conv2D)        (None, 14, 14, 512)       2359808   \n",
      "_________________________________________________________________\n",
      "block5_conv2 (Conv2D)        (None, 14, 14, 512)       2359808   \n",
      "_________________________________________________________________\n",
      "block5_conv3 (Conv2D)        (None, 14, 14, 512)       2359808   \n",
      "_________________________________________________________________\n",
      "block5_pool (MaxPooling2D)   (None, 7, 7, 512)         0         \n",
      "_________________________________________________________________\n",
      "global_average_pooling2d (Gl (None, 512)               0         \n",
      "_________________________________________________________________\n",
      "flatten (Flatten)            (None, 512)               0         \n",
      "_________________________________________________________________\n",
      "dropout (Dropout)            (None, 512)               0         \n",
      "_________________________________________________________________\n",
      "dense (Dense)                (None, 256)               131328    \n",
      "_________________________________________________________________\n",
      "dropout_1 (Dropout)          (None, 256)               0         \n",
      "_________________________________________________________________\n",
      "dense_1 (Dense)              (None, 1)                 257       \n",
      "=================================================================\n",
      "Total params: 14,846,273\n",
      "Trainable params: 2,491,393\n",
      "Non-trainable params: 12,354,880\n",
      "_________________________________________________________________\n"
     ]
    }
   ],
   "source": [
    "for i in range(17): \n",
    "    vgg.layers[i].trainable = False\n",
    "vgg.summary()"
   ]
  },
  {
   "cell_type": "markdown",
   "metadata": {},
   "source": [
    "for i in range(169):\n",
    "    resnet50.layers[i].trainable = False\n",
    "    \n",
    "resnet50.summary()"
   ]
  },
  {
   "cell_type": "code",
   "execution_count": 10,
   "metadata": {},
   "outputs": [],
   "source": [
    "adam = Adam(lr=0.001)\n",
    "vgg.compile(loss='binary_crossentropy',optimizer='adam',metrics=['accuracy'])"
   ]
  },
  {
   "cell_type": "markdown",
   "metadata": {},
   "source": [
    "- Train Model"
   ]
  },
  {
   "cell_type": "code",
   "execution_count": 11,
   "metadata": {},
   "outputs": [],
   "source": [
    "from keras.callbacks import ModelCheckpoint\n",
    "import os"
   ]
  },
  {
   "cell_type": "code",
   "execution_count": 12,
   "metadata": {},
   "outputs": [
    {
     "name": "stdout",
     "output_type": "stream",
     "text": [
      "Already Created\n"
     ]
    }
   ],
   "source": [
    "if not os.path.exists('../Weights/Vgg'):\n",
    "    os.mkdir('../Weights/Vgg')\n",
    "    print('Directory created')\n",
    "else:\n",
    "    print('Already Created')"
   ]
  },
  {
   "cell_type": "code",
   "execution_count": 13,
   "metadata": {},
   "outputs": [],
   "source": [
    "import os\n",
    "import glob\n",
    "\n",
    "files = glob.glob('../Weights/Vgg/*')\n",
    "for f in files:\n",
    "    os.remove(f)"
   ]
  },
  {
   "cell_type": "code",
   "execution_count": 14,
   "metadata": {},
   "outputs": [],
   "source": [
    "checkpoint = ModelCheckpoint(\n",
    "    '../Weights/Vgg/model_{epoch}_{val_accuracy:.2f}.h5',\n",
    "    monitor='val_accuracy', \n",
    "    verbose=1, \n",
    "    mode='auto'\n",
    ")"
   ]
  },
  {
   "cell_type": "code",
   "execution_count": 15,
   "metadata": {},
   "outputs": [
    {
     "name": "stdout",
     "output_type": "stream",
     "text": [
      "Epoch 1/10\n",
      "9/9 [==============================] - ETA: 0s - loss: 0.6880 - accuracy: 0.6484 \n",
      "Epoch 00001: saving model to ../Weights/Vgg/model_1_0.97.h5\n",
      "9/9 [==============================] - 196s 22s/step - loss: 0.6880 - accuracy: 0.6484 - val_loss: 0.2263 - val_accuracy: 0.9706\n",
      "Epoch 2/10\n",
      "9/9 [==============================] - ETA: 0s - loss: 0.3902 - accuracy: 0.8242 \n",
      "Epoch 00002: saving model to ../Weights/Vgg/model_2_0.97.h5\n",
      "9/9 [==============================] - 180s 20s/step - loss: 0.3902 - accuracy: 0.8242 - val_loss: 0.1382 - val_accuracy: 0.9706\n",
      "Epoch 3/10\n",
      "9/9 [==============================] - ETA: 0s - loss: 0.1644 - accuracy: 0.9304 \n",
      "Epoch 00003: saving model to ../Weights/Vgg/model_3_0.99.h5\n",
      "9/9 [==============================] - 178s 20s/step - loss: 0.1644 - accuracy: 0.9304 - val_loss: 0.0459 - val_accuracy: 0.9853\n",
      "Epoch 4/10\n",
      "9/9 [==============================] - ETA: 0s - loss: 0.1570 - accuracy: 0.9377 \n",
      "Epoch 00004: saving model to ../Weights/Vgg/model_4_0.96.h5\n",
      "9/9 [==============================] - 177s 20s/step - loss: 0.1570 - accuracy: 0.9377 - val_loss: 0.1314 - val_accuracy: 0.9559\n",
      "Epoch 5/10\n",
      "9/9 [==============================] - ETA: 0s - loss: 0.0618 - accuracy: 0.9817 \n",
      "Epoch 00005: saving model to ../Weights/Vgg/model_5_0.97.h5\n",
      "9/9 [==============================] - 176s 20s/step - loss: 0.0618 - accuracy: 0.9817 - val_loss: 0.0691 - val_accuracy: 0.9706\n",
      "Epoch 6/10\n",
      "9/9 [==============================] - ETA: 0s - loss: 0.0719 - accuracy: 0.9817 \n",
      "Epoch 00006: saving model to ../Weights/Vgg/model_6_0.96.h5\n",
      "9/9 [==============================] - 178s 20s/step - loss: 0.0719 - accuracy: 0.9817 - val_loss: 0.1174 - val_accuracy: 0.9559\n",
      "Epoch 7/10\n",
      "9/9 [==============================] - ETA: 0s - loss: 0.0522 - accuracy: 0.9853 \n",
      "Epoch 00007: saving model to ../Weights/Vgg/model_7_1.00.h5\n",
      "9/9 [==============================] - 180s 20s/step - loss: 0.0522 - accuracy: 0.9853 - val_loss: 0.0154 - val_accuracy: 1.0000\n",
      "Epoch 8/10\n",
      "9/9 [==============================] - ETA: 0s - loss: 0.0338 - accuracy: 0.9853 \n",
      "Epoch 00008: saving model to ../Weights/Vgg/model_8_0.97.h5\n",
      "9/9 [==============================] - 178s 20s/step - loss: 0.0338 - accuracy: 0.9853 - val_loss: 0.0639 - val_accuracy: 0.9706\n",
      "Epoch 9/10\n",
      "9/9 [==============================] - ETA: 0s - loss: 0.0223 - accuracy: 0.9890 \n",
      "Epoch 00009: saving model to ../Weights/Vgg/model_9_0.97.h5\n",
      "9/9 [==============================] - 181s 20s/step - loss: 0.0223 - accuracy: 0.9890 - val_loss: 0.0458 - val_accuracy: 0.9706\n",
      "Epoch 10/10\n",
      "9/9 [==============================] - ETA: 0s - loss: 0.0424 - accuracy: 0.9817 \n",
      "Epoch 00010: saving model to ../Weights/Vgg/model_10_0.97.h5\n",
      "9/9 [==============================] - 182s 20s/step - loss: 0.0424 - accuracy: 0.9817 - val_loss: 0.0507 - val_accuracy: 0.9706\n"
     ]
    }
   ],
   "source": [
    "hist = vgg.fit(\n",
    "    train_generator,\n",
    "    steps_per_epoch=9,\n",
    "    epochs=10,\n",
    "    validation_data=val_generator,\n",
    "    validation_steps=3,\n",
    "    callbacks=checkpoint\n",
    ")"
   ]
  },
  {
   "cell_type": "code",
   "execution_count": 22,
   "metadata": {},
   "outputs": [],
   "source": [
    "x,y=val_generator.next()"
   ]
  },
  {
   "cell_type": "code",
   "execution_count": 23,
   "metadata": {},
   "outputs": [
    {
     "name": "stdout",
     "output_type": "stream",
     "text": [
      "1/1 [==============================] - 0s 4ms/step - loss: 7.9194e-04 - accuracy: 1.0000\n"
     ]
    },
    {
     "data": {
      "text/plain": [
       "[0.000791942875366658, 1.0]"
      ]
     },
     "execution_count": 23,
     "metadata": {},
     "output_type": "execute_result"
    }
   ],
   "source": [
    "vgg.evaluate(x,y)"
   ]
  },
  {
   "cell_type": "markdown",
   "metadata": {},
   "source": [
    "- Save Model History"
   ]
  },
  {
   "cell_type": "code",
   "execution_count": 18,
   "metadata": {},
   "outputs": [],
   "source": [
    "import numpy as np\n",
    "import os"
   ]
  },
  {
   "cell_type": "code",
   "execution_count": 19,
   "metadata": {},
   "outputs": [
    {
     "name": "stdout",
     "output_type": "stream",
     "text": [
      "Already Created\n"
     ]
    }
   ],
   "source": [
    "if not os.path.exists('../Model_history'):\n",
    "    os.mkdir('../Model_history')\n",
    "    print('Directory created')\n",
    "else:\n",
    "    print('Already Created')"
   ]
  },
  {
   "cell_type": "code",
   "execution_count": 20,
   "metadata": {},
   "outputs": [
    {
     "name": "stdout",
     "output_type": "stream",
     "text": [
      "dict_keys(['loss', 'accuracy', 'val_loss', 'val_accuracy'])\n"
     ]
    }
   ],
   "source": [
    "np.save('../Model_history/vgg_file.npy',hist.history)\n",
    "read_dictionary = np.load('../Model_history/vgg_file.npy',allow_pickle='TRUE').item()\n",
    "print(read_dictionary.keys())"
   ]
  },
  {
   "cell_type": "code",
   "execution_count": null,
   "metadata": {},
   "outputs": [],
   "source": []
  }
 ],
 "metadata": {
  "kernelspec": {
   "display_name": "Python 3",
   "language": "python",
   "name": "python3"
  },
  "language_info": {
   "codemirror_mode": {
    "name": "ipython",
    "version": 3
   },
   "file_extension": ".py",
   "mimetype": "text/x-python",
   "name": "python",
   "nbconvert_exporter": "python",
   "pygments_lexer": "ipython3",
   "version": "3.7.5"
  }
 },
 "nbformat": 4,
 "nbformat_minor": 2
}
